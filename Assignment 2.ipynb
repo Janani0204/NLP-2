{
 "cells": [
  {
   "cell_type": "code",
   "execution_count": 2,
   "id": "b4caf857-09ae-4200-bc80-bf79dec82b12",
   "metadata": {},
   "outputs": [],
   "source": [
    "import pandas as pd\n",
    "fake_df = pd.read_csv('Fake.csv')\n",
    "true_df = pd.read_csv('True.csv')\n",
    "fake_df['label'] = 'fake'\n",
    "true_df['label'] = 'true'\n"
   ]
  },
  {
   "cell_type": "code",
   "execution_count": 3,
   "id": "c423f99b-2be7-4c36-9367-0c79444413f5",
   "metadata": {},
   "outputs": [],
   "source": [
    "combined_df = pd.concat([fake_df, true_df], ignore_index=True)\n"
   ]
  },
  {
   "cell_type": "code",
   "execution_count": 4,
   "id": "a94ef02c-8457-4a54-be7d-b2ba5d0004da",
   "metadata": {},
   "outputs": [
    {
     "name": "stdout",
     "output_type": "stream",
     "text": [
      "(44898, 5)\n",
      "                                               title  \\\n",
      "0   Donald Trump Sends Out Embarrassing New Year’...   \n",
      "1   Drunk Bragging Trump Staffer Started Russian ...   \n",
      "2   Sheriff David Clarke Becomes An Internet Joke...   \n",
      "3   Trump Is So Obsessed He Even Has Obama’s Name...   \n",
      "4   Pope Francis Just Called Out Donald Trump Dur...   \n",
      "\n",
      "                                                text subject  \\\n",
      "0  Donald Trump just couldn t wish all Americans ...    News   \n",
      "1  House Intelligence Committee Chairman Devin Nu...    News   \n",
      "2  On Friday, it was revealed that former Milwauk...    News   \n",
      "3  On Christmas day, Donald Trump announced that ...    News   \n",
      "4  Pope Francis used his annual Christmas Day mes...    News   \n",
      "\n",
      "                date label  \n",
      "0  December 31, 2017  fake  \n",
      "1  December 31, 2017  fake  \n",
      "2  December 30, 2017  fake  \n",
      "3  December 29, 2017  fake  \n",
      "4  December 25, 2017  fake  \n",
      "                                                   title  \\\n",
      "44893  'Fully committed' NATO backs new U.S. approach...   \n",
      "44894  LexisNexis withdrew two products from Chinese ...   \n",
      "44895  Minsk cultural hub becomes haven from authorities   \n",
      "44896  Vatican upbeat on possibility of Pope Francis ...   \n",
      "44897  Indonesia to buy $1.14 billion worth of Russia...   \n",
      "\n",
      "                                                    text    subject  \\\n",
      "44893  BRUSSELS (Reuters) - NATO allies on Tuesday we...  worldnews   \n",
      "44894  LONDON (Reuters) - LexisNexis, a provider of l...  worldnews   \n",
      "44895  MINSK (Reuters) - In the shadow of disused Sov...  worldnews   \n",
      "44896  MOSCOW (Reuters) - Vatican Secretary of State ...  worldnews   \n",
      "44897  JAKARTA (Reuters) - Indonesia will buy 11 Sukh...  worldnews   \n",
      "\n",
      "                   date label  \n",
      "44893  August 22, 2017   true  \n",
      "44894  August 22, 2017   true  \n",
      "44895  August 22, 2017   true  \n",
      "44896  August 22, 2017   true  \n",
      "44897  August 22, 2017   true  \n",
      "label\n",
      "fake    23481\n",
      "true    21417\n",
      "Name: count, dtype: int64\n"
     ]
    }
   ],
   "source": [
    "print(combined_df.shape)\n",
    "print(combined_df.head())\n",
    "print(combined_df.tail())\n",
    "print(combined_df['label'].value_counts())\n"
   ]
  },
  {
   "cell_type": "code",
   "execution_count": 5,
   "id": "f9482685-8b1a-45ad-a5ec-e36f57dda68e",
   "metadata": {},
   "outputs": [
    {
     "data": {
      "image/png": "[encoded data removed]",
      "text/plain": [
       "<Figure size 640x480 with 1 Axes>"
      ]
     },
     "metadata": {},
     "output_type": "display_data"
    }
   ],
   "source": [
    "import matplotlib.pyplot as plt\n",
    "import seaborn as sns\n",
    "sns.countplot(x='label', data=combined_df)\n",
    "plt.title('Distribution of Labels')\n",
    "plt.show()\n"
   ]
  },
  {
   "cell_type": "code",
   "execution_count": 12,
   "id": "5f3e756c-6373-40af-b532-5f1675f8aa3d",
   "metadata": {},
   "outputs": [],
   "source": [
    "import nltk\n",
    "from nltk.corpus import stopwords\n",
    "from nltk.tokenize import word_tokenize\n",
    "from nltk.stem import WordNetLemmatizer\n",
    "stop_words = set(stopwords.words('english'))\n",
    "lemmatizer = WordNetLemmatizer()\n",
    "\n",
    "def preprocess_text(text):\n",
    "    tokens = word_tokenize(text)\n",
    "    tokens = [token.lower() for token in tokens]\n",
    "    tokens = [token for token in tokens if token not in stop_words]\n",
    "    tokens = [lemmatizer.lemmatize(token) for token in tokens]\n",
    "    return ' '.join(tokens)\n",
    "combined_df['clean_text'] = combined_df['text'].apply(preprocess_text)\n"
   ]
  },
  {
   "cell_type": "code",
   "execution_count": 11,
   "id": "e60686a5-018a-4512-9c6e-cb0dc7b2c913",
   "metadata": {},
   "outputs": [
    {
     "name": "stdout",
     "output_type": "stream",
     "text": [
      "Shape of TF-IDF matrix: (44898, 5000)\n"
     ]
    }
   ],
   "source": [
    "from sklearn.feature_extraction.text import TfidfVectorizer\n",
    "\n",
    "tfidf_vectorizer = TfidfVectorizer(max_features=5000)\n",
    "X = tfidf_vectorizer.fit_transform(combined_df['clean_text'])\n",
    "print(\"Shape of TF-IDF matrix:\", X.shape)\n"
   ]
  },
  {
   "cell_type": "code",
   "execution_count": null,
   "id": "1f9354d1-deaf-458c-9af0-f19ea0facb6d",
   "metadata": {},
   "outputs": [],
   "source": []
  }
 ],
 "metadata": {
  "kernelspec": {
   "display_name": "Python 3 (ipykernel)",
   "language": "python",
   "name": "python3"
  },
  "language_info": {
   "codemirror_mode": {
    "name": "ipython",
    "version": 3
   },
   "file_extension": ".py",
   "mimetype": "text/x-python",
   "name": "python",
   "nbconvert_exporter": "python",
   "pygments_lexer": "ipython3",
   "version": "3.11.7"
  }
 },
 "nbformat": 4,
 "nbformat_minor": 5
}
